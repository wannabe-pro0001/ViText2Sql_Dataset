{
 "cells": [
  {
   "cell_type": "markdown",
   "metadata": {},
   "source": [
    "# Statistic"
   ]
  },
  {
   "cell_type": "markdown",
   "metadata": {},
   "source": [
    "## Load Data"
   ]
  },
  {
   "cell_type": "code",
   "execution_count": 3,
   "metadata": {},
   "outputs": [
    {
     "name": "stdout",
     "output_type": "stream",
     "text": [
      "d:\\IDE_workspace\\VSCode\\TLCN_Project\\ViText2SQL\n",
      "d:\\IDE_workspace\\VSCode\\TLCN_Project\\ViText2SQL\\data\\syllable-level\n"
     ]
    }
   ],
   "source": [
    "import os\n",
    "\n",
    "# get absolute path\n",
    "base_path = os.getcwd()\n",
    "print(base_path)\n",
    "\n",
    "#get data syllable path\n",
    "data_path = os.path.join(base_path, 'data\\\\syllable-level')\n",
    "print(data_path)"
   ]
  },
  {
   "cell_type": "code",
   "execution_count": 4,
   "metadata": {},
   "outputs": [],
   "source": [
    "train_dataset_path = os.path.join(data_path, 'train.json')\n",
    "table_dataset_path = os.path.join(data_path, 'tables.json')\n",
    "dev_dataset_path = os.path.join(data_path, 'dev.json')\n",
    "test_dataset_path = os.path.join(data_path, 'test.json')"
   ]
  },
  {
   "cell_type": "code",
   "execution_count": 8,
   "metadata": {},
   "outputs": [],
   "source": [
    "import json\n",
    "\n",
    "train_dataset = json.load(open(train_dataset_path))\n",
    "table_dataset = json.load(open(table_dataset_path))\n",
    "dev_dataset = json.load(open(dev_dataset_path))\n",
    "test_dataset = json.load(open(test_dataset_path))"
   ]
  },
  {
   "cell_type": "markdown",
   "metadata": {},
   "source": [
    "### To-do\n",
    "\n",
    "* Tập dữ liệu có bao nhiêu dòng\n",
    "* Tập dữ liệu có bao nhiêu câu hỏi \n",
    "* Có bao nhiêu bảng\n",
    "* Thống kê số bảng liên quan để câu hỏi\n",
    "* Thống kê số câu hỏi liên quan đến bảng"
   ]
  },
  {
   "cell_type": "code",
   "execution_count": 9,
   "metadata": {},
   "outputs": [
    {
     "name": "stdout",
     "output_type": "stream",
     "text": [
      "tập dữ liệu train có 6831 dòng\n",
      "tập dữ liệu bảng có 166 bảng\n"
     ]
    }
   ],
   "source": [
    "print(f\"tập dữ liệu train có {len(train_dataset)} dòng\")\n",
    "print(f\"tập dữ liệu bảng có {len(table_dataset)} bảng\")"
   ]
  },
  {
   "cell_type": "code",
   "execution_count": 5,
   "metadata": {},
   "outputs": [
    {
     "data": {
      "text/plain": [
       "{'db_id': 'academic',\n",
       " 'query': 'select trang chủ from tạp chí where tên = \"PVLDB\"',\n",
       " 'query_toks': ['select',\n",
       "  'trang chủ',\n",
       "  'from',\n",
       "  'tạp chí',\n",
       "  'where',\n",
       "  'tên',\n",
       "  '=',\n",
       "  '\"PVLDB\"'],\n",
       " 'query_toks_no_value': ['select',\n",
       "  'trang chủ',\n",
       "  'from',\n",
       "  'tạp chí',\n",
       "  'where',\n",
       "  'tên',\n",
       "  '=',\n",
       "  'value'],\n",
       " 'question': 'hiển thị trang chủ của hội nghị PVLDB .',\n",
       " 'question_toks': ['hiển',\n",
       "  'thị',\n",
       "  'trang',\n",
       "  'chủ',\n",
       "  'của',\n",
       "  'hội',\n",
       "  'nghị',\n",
       "  'PVLDB',\n",
       "  '.'],\n",
       " 'sql': {'except': None,\n",
       "  'from': {'conds': [], 'table_units': [['table_unit', 5]]},\n",
       "  'groupBy': [],\n",
       "  'having': [],\n",
       "  'intersect': None,\n",
       "  'limit': None,\n",
       "  'orderBy': [],\n",
       "  'select': [False, [[0, [0, [0, 14, False], None]]]],\n",
       "  'union': None,\n",
       "  'where': [[False, 2, [0, [0, 16, False], None], '\"PVLDB\"', None]]}}"
      ]
     },
     "execution_count": 5,
     "metadata": {},
     "output_type": "execute_result"
    }
   ],
   "source": []
  },
  {
   "cell_type": "code",
   "execution_count": null,
   "metadata": {},
   "outputs": [],
   "source": []
  }
 ],
 "metadata": {
  "kernelspec": {
   "display_name": "dataEngineer",
   "language": "python",
   "name": "python3"
  },
  "language_info": {
   "codemirror_mode": {
    "name": "ipython",
    "version": 3
   },
   "file_extension": ".py",
   "mimetype": "text/x-python",
   "name": "python",
   "nbconvert_exporter": "python",
   "pygments_lexer": "ipython3",
   "version": "3.9.18"
  }
 },
 "nbformat": 4,
 "nbformat_minor": 2
}
