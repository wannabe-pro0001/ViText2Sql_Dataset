{
 "cells": [
  {
   "cell_type": "code",
   "execution_count": 1,
   "metadata": {},
   "outputs": [
    {
     "name": "stdout",
     "output_type": "stream",
     "text": [
      "d:\\IDE_workspace\\VSCode\\TLCN_Project\\ViText2SQL\n",
      "d:\\IDE_workspace\\VSCode\\TLCN_Project\\ViText2SQL\\data\\syllable-level\n"
     ]
    }
   ],
   "source": [
    "import os\n",
    "\n",
    "# get absolute path\n",
    "base_path = os.getcwd()\n",
    "print(base_path)\n",
    "\n",
    "#get data syllable path\n",
    "data_path = os.path.join(base_path, 'data\\\\syllable-level')\n",
    "print(data_path)"
   ]
  },
  {
   "cell_type": "code",
   "execution_count": 2,
   "metadata": {},
   "outputs": [],
   "source": [
    "train_dataset_path = os.path.join(data_path, 'train.json')\n",
    "table_dataset_path = os.path.join(data_path, 'tables.json')"
   ]
  },
  {
   "cell_type": "code",
   "execution_count": 3,
   "metadata": {},
   "outputs": [],
   "source": [
    "import json\n",
    "\n",
    "train_dataset = json.load(open(train_dataset_path))\n",
    "table_dataset = json.load(open(table_dataset_path))"
   ]
  },
  {
   "cell_type": "code",
   "execution_count": 4,
   "metadata": {},
   "outputs": [],
   "source": [
    "def see_query_info(row):\n",
    "    table_units = []\n",
    "    for item in row['sql']['from']['table_units']:\n",
    "        table_units.append(item[1])\n",
    "    return row['question'], row['query'], table_units\n",
    "\n",
    "def see_table_schema(schema):\n",
    "    tables = [(r, []) for r in schema['table_names']]\n",
    "    for col in schema['column_names'][1:]:\n",
    "        # add column to coresponding table\n",
    "        tables[col[0]][1].append(col[1])\n",
    "    return tables\n",
    "\n",
    "def find_db_from_query(data):\n",
    "    db_id = data['db_id']\n",
    "    for table in table_dataset:\n",
    "        if table['db_id'] == db_id:\n",
    "            return table\n",
    "\n",
    "def find_all_question_and_query_from_table(data):\n",
    "    db_id = data['db_id']\n",
    "    question_n_query = []\n",
    "    for r in train_dataset:\n",
    "        if r['db_id'] == db_id:\n",
    "            question_n_query.append(see_query_info)\n",
    "    return question_n_query"
   ]
  },
  {
   "cell_type": "code",
   "execution_count": 10,
   "metadata": {},
   "outputs": [],
   "source": [
    "def all_info(data):\n",
    "    tables = find_db_from_query(data)\n",
    "    question, query, table_units = see_query_info(data)\n",
    "    schema = see_table_schema(tables)\n",
    "    \n",
    "    core_respond_table = [schema[unit] for unit in table_units]\n",
    "    return core_respond_table, question, query, schema"
   ]
  },
  {
   "cell_type": "code",
   "execution_count": 15,
   "metadata": {},
   "outputs": [
    {
     "data": {
      "text/plain": [
       "[('tổ chức', ['lục địa', 'trang chủ', 'tên', 'id tổ chức'])]"
      ]
     },
     "metadata": {},
     "output_type": "display_data"
    },
    {
     "name": "stdout",
     "output_type": "stream",
     "text": [
      "cho biết trang chủ của ' Đại học Michigan ' .\n",
      "select trang chủ from tổ chức where tên = \"University of Michigan\"\n"
     ]
    },
    {
     "ename": "TypeError",
     "evalue": "str.join() takes exactly one argument (2 given)",
     "output_type": "error",
     "traceback": [
      "\u001b[1;31m---------------------------------------------------------------------------\u001b[0m",
      "\u001b[1;31mTypeError\u001b[0m                                 Traceback (most recent call last)",
      "\u001b[1;32m~\\AppData\\Local\\Temp\\ipykernel_3324\\1925668622.py\u001b[0m in \u001b[0;36m<cell line: 7>\u001b[1;34m()\u001b[0m\n\u001b[0;32m      5\u001b[0m \u001b[0mprint\u001b[0m\u001b[1;33m(\u001b[0m\u001b[0mquestion\u001b[0m\u001b[1;33m)\u001b[0m\u001b[1;33m\u001b[0m\u001b[1;33m\u001b[0m\u001b[0m\n\u001b[0;32m      6\u001b[0m \u001b[1;33m\u001b[0m\u001b[0m\n\u001b[1;32m----> 7\u001b[1;33m \u001b[0mprint\u001b[0m\u001b[1;33m(\u001b[0m\u001b[1;34m' '\u001b[0m\u001b[1;33m.\u001b[0m\u001b[0mjoin\u001b[0m\u001b[1;33m(\u001b[0m\u001b[0mcore_respond_table\u001b[0m\u001b[1;33m[\u001b[0m\u001b[1;36m0\u001b[0m\u001b[1;33m]\u001b[0m\u001b[1;33m[\u001b[0m\u001b[1;36m0\u001b[0m\u001b[1;33m]\u001b[0m\u001b[1;33m,\u001b[0m \u001b[1;34m', '\u001b[0m\u001b[1;33m.\u001b[0m\u001b[0mjoin\u001b[0m\u001b[1;33m(\u001b[0m\u001b[0mcore_respond_table\u001b[0m\u001b[1;33m[\u001b[0m\u001b[1;36m0\u001b[0m\u001b[1;33m]\u001b[0m\u001b[1;33m[\u001b[0m\u001b[1;36m1\u001b[0m\u001b[1;33m]\u001b[0m\u001b[1;33m)\u001b[0m\u001b[1;33m)\u001b[0m\u001b[1;33m)\u001b[0m\u001b[1;33m\u001b[0m\u001b[1;33m\u001b[0m\u001b[0m\n\u001b[0m",
      "\u001b[1;31mTypeError\u001b[0m: str.join() takes exactly one argument (2 given)"
     ]
    }
   ],
   "source": [
    "id = 10\n",
    "core_respond_table, query, question, schema = all_info(train_dataset[id])\n",
    "display(core_respond_table)\n",
    "print(query)\n",
    "print(question)"
   ]
  },
  {
   "cell_type": "code",
   "execution_count": 29,
   "metadata": {},
   "outputs": [],
   "source": [
    "def table_to_string(tables):\n",
    "    lst = []\n",
    "    for table in tables:\n",
    "        lst.append(table[0] + ' (' + ','.join(table[1]) + ')')\n",
    "    result = '; '.join(lst)\n",
    "    return result    \n",
    "\n",
    "def to_single_dataset(id, data):\n",
    "    core_respond_table, question, query, _ = all_info(data[id])\n",
    "    \n",
    "    instruction = f'Tôi có bảng: {table_to_string(core_respond_table)}. Hãy trả lời câu sau thành câu truy vấn: {question}' \n",
    "    return instruction, query"
   ]
  },
  {
   "cell_type": "code",
   "execution_count": 30,
   "metadata": {},
   "outputs": [
    {
     "data": {
      "text/plain": [
       "(\"Tôi có bảng: bài báo (tóm tắt,id hội nghị,số lượng trích dẫn,id tạp chí,id bài báo,số lượng trích dẫn,tiêu đề,năm). Hãy trả lời câu sau thành câu truy vấn: cho biết bản tóm tắt của bài báo với tiêu đề là ' làm cho hệ thống cơ sở dữ liệu có thể sử dụng được ' .\",\n",
       " 'select tóm tắt from bài báo where tiêu đề = \"Making database systems usable\"')"
      ]
     },
     "execution_count": 30,
     "metadata": {},
     "output_type": "execute_result"
    }
   ],
   "source": [
    "to_single_dataset(2, train_dataset)"
   ]
  },
  {
   "cell_type": "code",
   "execution_count": 36,
   "metadata": {},
   "outputs": [],
   "source": [
    "dataset = []\n",
    "columns = [\"instruction\", \"output\"]\n",
    "for id in range(20):\n",
    "    data = {}\n",
    "    instruction, query = to_single_dataset(id, train_dataset)\n",
    "    data[columns[0]] = instruction\n",
    "    data[columns[1]] = query\n",
    "    dataset.append(data)\n",
    "\n",
    "# json_data = json.dumps(dataset, indent=4, ensure_ascii=False)\n",
    "# print(json_data)\n",
    "\n",
    "json.dump(dataset, open('dataset.json', 'w'), ensure_ascii=False, separators=(',', ': '), indent=4)"
   ]
  },
  {
   "cell_type": "code",
   "execution_count": 40,
   "metadata": {},
   "outputs": [
    {
     "name": "stdout",
     "output_type": "stream",
     "text": [
      "[701, 3389, 4660, 5917, 982, 4972, 1093, 6301, 5222, 5357, 5880, 2564, 4989, 1079, 2305, 4910, 4998, 3923, 5003, 326]\n"
     ]
    }
   ],
   "source": [
    "import random\n",
    "\n",
    "def generate_dataset(number_of_data, data):\n",
    "    lst_id = [random.randint(0, len(data)) for _ in range(number_of_data)]\n",
    "    lst = []\n",
    "    for id in lst_id:\n",
    "        lst.append(to_single_dataset(id, data))\n"
   ]
  },
  {
   "cell_type": "code",
   "execution_count": 7,
   "metadata": {},
   "outputs": [
    {
     "data": {
      "text/plain": [
       "166"
      ]
     },
     "execution_count": 7,
     "metadata": {},
     "output_type": "execute_result"
    }
   ],
   "source": [
    "all_table = [see_table_schema(table) for table in table_dataset]\n",
    "len(all_table)"
   ]
  },
  {
   "cell_type": "code",
   "execution_count": 8,
   "metadata": {},
   "outputs": [],
   "source": [
    "ll = {}\n",
    "for table in all_table:\n",
    "    ll[len(table)] = ll.get(len(table), 0) + 1"
   ]
  },
  {
   "cell_type": "code",
   "execution_count": 69,
   "metadata": {},
   "outputs": [
    {
     "data": {
      "text/plain": [
       "{2: 23,\n",
       " 11: 6,\n",
       " 3: 55,\n",
       " 4: 26,\n",
       " 15: 2,\n",
       " 14: 2,\n",
       " 7: 14,\n",
       " 5: 10,\n",
       " 9: 3,\n",
       " 8: 5,\n",
       " 12: 3,\n",
       " 6: 8,\n",
       " 16: 3,\n",
       " 26: 1,\n",
       " 10: 2,\n",
       " 13: 2,\n",
       " 17: 1}"
      ]
     },
     "execution_count": 69,
     "metadata": {},
     "output_type": "execute_result"
    }
   ],
   "source": [
    "ll"
   ]
  },
  {
   "cell_type": "code",
   "execution_count": null,
   "metadata": {},
   "outputs": [],
   "source": []
  }
 ],
 "metadata": {
  "kernelspec": {
   "display_name": "dataEngineer",
   "language": "python",
   "name": "python3"
  },
  "language_info": {
   "codemirror_mode": {
    "name": "ipython",
    "version": 3
   },
   "file_extension": ".py",
   "mimetype": "text/x-python",
   "name": "python",
   "nbconvert_exporter": "python",
   "pygments_lexer": "ipython3",
   "version": "3.9.18"
  }
 },
 "nbformat": 4,
 "nbformat_minor": 2
}
