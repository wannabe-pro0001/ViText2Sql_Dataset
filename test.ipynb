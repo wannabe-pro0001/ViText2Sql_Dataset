{
 "cells": [
  {
   "cell_type": "code",
   "execution_count": 1,
   "metadata": {},
   "outputs": [
    {
     "name": "stdout",
     "output_type": "stream",
     "text": [
      "d:\\IDE_workspace\\VSCode\\TLCN_Project\\ViText2SQL\n",
      "d:\\IDE_workspace\\VSCode\\TLCN_Project\\ViText2SQL\\data\\syllable-level\n"
     ]
    }
   ],
   "source": [
    "import os\n",
    "\n",
    "# get absolute path\n",
    "base_path = os.getcwd()\n",
    "print(base_path)\n",
    "\n",
    "#get data syllable path\n",
    "data_path = os.path.join(base_path, 'data\\\\syllable-level')\n",
    "print(data_path)"
   ]
  },
  {
   "cell_type": "code",
   "execution_count": 2,
   "metadata": {},
   "outputs": [],
   "source": [
    "train_dataset_path = os.path.join(data_path, 'train.json')\n",
    "table_dataset_path = os.path.join(data_path, 'tables.json')"
   ]
  },
  {
   "cell_type": "code",
   "execution_count": 3,
   "metadata": {},
   "outputs": [],
   "source": [
    "import json\n",
    "\n",
    "train_dataset = json.load(open(train_dataset_path))\n",
    "table_dataset = json.load(open(table_dataset_path))"
   ]
  },
  {
   "cell_type": "code",
   "execution_count": 7,
   "metadata": {},
   "outputs": [],
   "source": [
    "def get_table_units(sql):\n",
    "    lst_id = set()\n",
    "    for item in sql['from'][\"table_units\"]:\n",
    "        if item[0] == \"table_unit\":\n",
    "            lst_id.add(item[1])\n",
    "        elif item[0] == \"sql\":\n",
    "            lst_id.update(get_table_units(item[1]))\n",
    "    if sql[\"except\"]:\n",
    "        lst_id.update(get_table_units(sql[\"except\"]))\n",
    "    if sql[\"union\"]:\n",
    "        lst_id.update(get_table_units(sql[\"union\"]))\n",
    "    if sql[\"intersect\"]:\n",
    "        lst_id.update(get_table_units(sql[\"intersect\"]))\n",
    "    return lst_id\n",
    "\n",
    "def see_query_info(row):\n",
    "    sql = row['sql']\n",
    "    table_units = get_table_units(sql)\n",
    "\n",
    "    return row['question'], row['query'], table_units\n",
    "\n",
    "def see_table_schema(schema):\n",
    "    tables = [(r, []) for r in schema['table_names']]\n",
    "    for col in schema['column_names'][1:]:\n",
    "        # add column to coresponding table\n",
    "        tables[col[0]][1].append(col[1])\n",
    "    return tables\n",
    "\n",
    "def find_db_from_query(data):\n",
    "    db_id = data['db_id']\n",
    "    for table in table_dataset:\n",
    "        if table['db_id'] == db_id:\n",
    "            return table\n",
    "\n",
    "def find_all_question_and_query_from_table(data):\n",
    "    db_id = data['db_id']\n",
    "    question_n_query = []\n",
    "    for r in train_dataset:\n",
    "        if r['db_id'] == db_id:\n",
    "            question_n_query.append(see_query_info)\n",
    "    return question_n_query"
   ]
  },
  {
   "cell_type": "code",
   "execution_count": 8,
   "metadata": {},
   "outputs": [],
   "source": [
    "def all_info(data):\n",
    "    tables = find_db_from_query(data)\n",
    "    question, query, table_units = see_query_info(data)\n",
    "    schema = see_table_schema(tables)\n",
    "    try:\n",
    "        core_respond_table = [schema[unit] for unit in table_units]\n",
    "        return core_respond_table, question, query, schema\n",
    "    except:\n",
    "        print(query)\n",
    "    "
   ]
  },
  {
   "cell_type": "code",
   "execution_count": 10,
   "metadata": {},
   "outputs": [
    {
     "data": {
      "text/plain": [
       "[('tổ chức', ['lục địa', 'trang chủ', 'tên', 'id tổ chức'])]"
      ]
     },
     "metadata": {},
     "output_type": "display_data"
    },
    {
     "name": "stdout",
     "output_type": "stream",
     "text": [
      "cho biết trang chủ của ' Đại học Michigan ' .\n",
      "select trang chủ from tổ chức where tên = \"University of Michigan\"\n"
     ]
    }
   ],
   "source": [
    "id = 10\n",
    "core_respond_table, query, question, schema = all_info(train_dataset[id])\n",
    "display(core_respond_table)\n",
    "print(query)\n",
    "print(question)"
   ]
  },
  {
   "cell_type": "code",
   "execution_count": 11,
   "metadata": {},
   "outputs": [],
   "source": [
    "def table_to_string(tables):\n",
    "    lst = []\n",
    "    for table in tables:\n",
    "        lst.append(table[0] + ' (' + ','.join(table[1]) + ')')\n",
    "    result = '; '.join(lst)\n",
    "    return result    \n",
    "\n",
    "def to_dataset(data):\n",
    "    core_respond_table, question, query, _ = all_info(data)\n",
    "    \n",
    "    # ouput is dataset with inputs and lables\n",
    "    columns = [\"inputs\", \"labels\"]\n",
    "    data_single_input = {}\n",
    "    instruction = f\"Tôi có bảng: {table_to_string(core_respond_table)}. Hãy trả lời bằng câu truy vấn: {question}\"\n",
    "\n",
    "    data_single_input[columns[0]] = instruction\n",
    "    data_single_input[columns[1]] = query\n",
    "\n",
    "    #output is dataset with schema, question, query\n",
    "    columns = [\"schema\", \"question\", \"labels\"]\n",
    "    data_multiple_input = {}\n",
    "    data_multiple_input[columns[0]] = table_to_string(core_respond_table)\n",
    "    data_multiple_input[columns[1]] = question\n",
    "    data_multiple_input[columns[2]] = query\n",
    "\n",
    "    return data_single_input, data_multiple_input"
   ]
  },
  {
   "cell_type": "code",
   "execution_count": 12,
   "metadata": {},
   "outputs": [
    {
     "data": {
      "text/plain": [
       "({'inputs': \"Tôi có bảng: bài báo (tóm tắt,id hội nghị,số lượng trích dẫn,id tạp chí,id bài báo,số lượng trích dẫn,tiêu đề,năm). Hãy trả lời bằng câu truy vấn: cho biết bản tóm tắt của bài báo với tiêu đề là ' làm cho hệ thống cơ sở dữ liệu có thể sử dụng được ' .\",\n",
       "  'labels': 'select tóm tắt from bài báo where tiêu đề = \"Making database systems usable\"'},\n",
       " {'schema': 'bài báo (tóm tắt,id hội nghị,số lượng trích dẫn,id tạp chí,id bài báo,số lượng trích dẫn,tiêu đề,năm)',\n",
       "  'question': \"cho biết bản tóm tắt của bài báo với tiêu đề là ' làm cho hệ thống cơ sở dữ liệu có thể sử dụng được ' .\",\n",
       "  'labels': 'select tóm tắt from bài báo where tiêu đề = \"Making database systems usable\"'})"
      ]
     },
     "execution_count": 12,
     "metadata": {},
     "output_type": "execute_result"
    }
   ],
   "source": [
    "to_dataset(train_dataset[2])"
   ]
  },
  {
   "cell_type": "code",
   "execution_count": 13,
   "metadata": {},
   "outputs": [],
   "source": [
    "def generate_dataset(lst_id, data):\n",
    "    lst_single_input = []\n",
    "    lst_multiple_input = []\n",
    "    for id in lst_id:\n",
    "        single_input, multiple_input = to_dataset(data[id])\n",
    "        lst_single_input.append(single_input)\n",
    "        lst_multiple_input.append(multiple_input)\n",
    "    return lst_single_input, lst_multiple_input"
   ]
  },
  {
   "cell_type": "markdown",
   "metadata": {},
   "source": [
    "### Generate Specific id"
   ]
  },
  {
   "cell_type": "code",
   "execution_count": 14,
   "metadata": {},
   "outputs": [
    {
     "name": "stdout",
     "output_type": "stream",
     "text": [
      "[426, 6007, 212, 2548, 3035, 6477, 2592, 4995, 2081, 825, 2947, 4732, 210, 5993, 3010, 500, 3894, 5679, 5276, 5770, 4781, 2107, 474, 6506, 3835, 3792, 2623, 3320, 4185, 3203, 5505, 3886, 3486, 5526, 2246, 3946, 1198, 6076, 2265, 1303, 4800, 1588, 5051, 2620, 4031, 958, 5126, 5216, 6393, 5243, 3516, 1903, 613, 412, 559, 3435, 350, 2162, 5098, 1431, 4402, 3912, 6274, 3513, 3515, 6378, 914, 1450, 957, 4266, 1802, 4612, 399, 5365, 4604, 3452, 1213, 2301, 6072, 1089, 6727, 5448, 1631, 18, 4064, 343, 6473, 100, 5366, 1241, 6493, 2518, 657, 4066, 2180, 829, 786, 5151, 3559, 6547]\n"
     ]
    }
   ],
   "source": [
    "import random\n",
    "seed = 20110220\n",
    "num = 100\n",
    "random.seed(seed)\n",
    "lst_id = random.sample(range(len(train_dataset)), num)\n",
    "print(lst_id)"
   ]
  },
  {
   "cell_type": "code",
   "execution_count": 15,
   "metadata": {},
   "outputs": [],
   "source": [
    "single_input_dataset, multiple_input_dataset = generate_dataset(lst_id, train_dataset)"
   ]
  },
  {
   "cell_type": "code",
   "execution_count": 16,
   "metadata": {},
   "outputs": [
    {
     "data": {
      "text/plain": [
       "[{'schema': 'cầu thủ (id cầu thủ,năm sinh,tháng sinh,ngày sinh,đất nước nơi sinh,tiểu bang nơi sinh,thành phố nơi sinh,năm mất,tháng mất,ngày mất,đất nước nơi mất,tiểu bang nơi mất,thành phố nơi mất,tên,họ,tên đệm,cân nặng,chiều cao,tay đánh thuận,tay ném thuận,ngày ra mắt,ngày chơi trận cuối,id trong retro,id trong brref)',\n",
       "  'question': 'Cho biết 3 quốc gia có ít cầu thủ nhất .',\n",
       "  'labels': 'select đất nước nơi sinh from cầu thủ group by đất nước nơi sinh order by count ( * ) asc limit 3'},\n",
       " {'schema': 'khách hàng (id,tên,họ,công ty,địa chỉ,thành phố,tiểu bang,quốc gia,mã bưu điện,số điện thoại,số fax,e-mail,id đại diện hỗ trợ)',\n",
       "  'question': \"Có bao nhiêu khách hàng sống ở ' Prague ' ?\",\n",
       "  'labels': 'select count ( * ) from khách hàng where thành phố = \"Prague\"'},\n",
       " {'schema': 'phi công (id phi công,tên,tuổi tác)',\n",
       "  'question': 'Sắp xếp tên của tất cả các phi công theo thứ tự giảm dần về độ tuổi .',\n",
       "  'labels': 'select tên from phi công order by tuổi tác desc'},\n",
       " {'schema': 'sân bay (id sân bay,tên,thành phố,quốc gia,x,y,độ cao,iata,icao)',\n",
       "  'question': 'Mỗi quốc gia có bao nhiêu sân bay ? Sắp xếp các quốc gia theo thứ tự giảm dần về số lượng các sân bay ở từng quốc gia .',\n",
       "  'labels': 'select count ( * ) , quốc gia from sân bay group by quốc gia order by count ( * ) desc'},\n",
       " {'schema': 'thành phố (tên thành phố,dân số,tên quốc gia,tên tiểu bang)',\n",
       "  'question': 'có bao nhiêu người sống ở thủ đô của texas ?',\n",
       "  'labels': 'select dân số from thành phố where tên thành phố = ( select thủ đô from tiểu bang where tên tiểu bang = \"texas\" )'}]"
      ]
     },
     "execution_count": 16,
     "metadata": {},
     "output_type": "execute_result"
    }
   ],
   "source": [
    "multiple_input_dataset[:5]"
   ]
  },
  {
   "cell_type": "code",
   "execution_count": 29,
   "metadata": {},
   "outputs": [],
   "source": [
    "json.dump(single_input_dataset, open('generate_data/single_input_dataset.json', 'w'), ensure_ascii=False, separators=(',', ': '), indent=4)\n",
    "json.dump(multiple_input_dataset, open('generate_data/multiple_input_dataset.json', 'w'), ensure_ascii=False, separators=(',', ': '), indent=4)"
   ]
  },
  {
   "cell_type": "markdown",
   "metadata": {},
   "source": [
    "### Generate all data"
   ]
  },
  {
   "cell_type": "code",
   "execution_count": 17,
   "metadata": {},
   "outputs": [
    {
     "name": "stdout",
     "output_type": "stream",
     "text": [
      "True\n"
     ]
    }
   ],
   "source": [
    "all_lst_id = [*range(len(train_dataset))]\n",
    "# random.shuffle(all_lst_id)\n",
    "print(len(all_lst_id) == len(train_dataset))"
   ]
  },
  {
   "cell_type": "code",
   "execution_count": 18,
   "metadata": {},
   "outputs": [],
   "source": [
    "all_single_input_dataset, all_multiple_input_dataset = generate_dataset(all_lst_id, train_dataset)"
   ]
  },
  {
   "cell_type": "code",
   "execution_count": 19,
   "metadata": {},
   "outputs": [],
   "source": [
    "json.dump(all_single_input_dataset, open('generate_data/all_single_input_dataset.json', 'w'), ensure_ascii=False, separators=(',', ': '), indent=4)\n",
    "json.dump(all_multiple_input_dataset, open('generate_data/all_multiple_input_dataset.json', 'w'), ensure_ascii=False, separators=(',', ': '), indent=4)"
   ]
  },
  {
   "cell_type": "code",
   "execution_count": 22,
   "metadata": {},
   "outputs": [
    {
     "data": {
      "text/plain": [
       "6831"
      ]
     },
     "execution_count": 22,
     "metadata": {},
     "output_type": "execute_result"
    }
   ],
   "source": [
    "len(all_single_input_dataset)"
   ]
  },
  {
   "cell_type": "code",
   "execution_count": null,
   "metadata": {},
   "outputs": [],
   "source": []
  }
 ],
 "metadata": {
  "kernelspec": {
   "display_name": "dataEngineer",
   "language": "python",
   "name": "python3"
  },
  "language_info": {
   "codemirror_mode": {
    "name": "ipython",
    "version": 3
   },
   "file_extension": ".py",
   "mimetype": "text/x-python",
   "name": "python",
   "nbconvert_exporter": "python",
   "pygments_lexer": "ipython3",
   "version": "3.9.18"
  }
 },
 "nbformat": 4,
 "nbformat_minor": 2
}
