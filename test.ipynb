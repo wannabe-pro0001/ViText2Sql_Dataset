{
 "cells": [
  {
   "cell_type": "code",
   "execution_count": 4,
   "metadata": {},
   "outputs": [
    {
     "name": "stdout",
     "output_type": "stream",
     "text": [
      "d:\\IDE_workspace\\VSCode\\TLCN_Project\\ViText2SQL\n",
      "d:\\IDE_workspace\\VSCode\\TLCN_Project\\ViText2SQL\\data\\syllable-level\n"
     ]
    }
   ],
   "source": [
    "import os\n",
    "\n",
    "# get absolute path\n",
    "base_path = os.getcwd()\n",
    "print(base_path)\n",
    "\n",
    "#get data syllable path\n",
    "data_path = os.path.join(base_path, 'data\\\\syllable-level')\n",
    "print(data_path)"
   ]
  },
  {
   "cell_type": "code",
   "execution_count": 13,
   "metadata": {},
   "outputs": [],
   "source": [
    "train_dataset_path = os.path.join(data_path, 'train.json')\n",
    "table_dataset_path = os.path.join(data_path, 'tables.json')"
   ]
  },
  {
   "cell_type": "code",
   "execution_count": 14,
   "metadata": {},
   "outputs": [],
   "source": [
    "import json\n",
    "\n",
    "train_dataset = json.load(open(train_dataset_path))\n",
    "table_dataset = json.load(open(table_dataset_path))"
   ]
  },
  {
   "cell_type": "code",
   "execution_count": 51,
   "metadata": {},
   "outputs": [],
   "source": [
    "def see_query_n_question(row):\n",
    "    return row['question'], row['query']\n",
    "\n",
    "def see_table_schema(row):\n",
    "    tables = {r:[] for r in row['table_names']}\n",
    "    for r in row['column_names'][1:]:\n",
    "        # add column to coresponding table\n",
    "        tables[row['table_names'][r[0]]].append(r[1])\n",
    "    return tables\n",
    "\n",
    "def find_db_id_from_query(data):\n",
    "    db_id = data['db_id']\n",
    "    for table in table_dataset:\n",
    "        if table['db_id'] == db_id:\n",
    "            return table\n",
    "\n",
    "def find_db_id_from_table(data):\n",
    "    db_id = data['db_id']\n",
    "    question_n_query = []\n",
    "    for r in train_dataset:\n",
    "        if r['db_id'] == db_id:\n",
    "            question_n_query.append((r['question'], r['query']))"
   ]
  },
  {
   "cell_type": "code",
   "execution_count": 49,
   "metadata": {},
   "outputs": [],
   "source": [
    "def all_info(data):\n",
    "    table = find_db_id(data)\n",
    "    question, query = see_query_n_question(data)\n",
    "    cols = see_table_schema(table)\n",
    "    return cols, question, query"
   ]
  },
  {
   "cell_type": "code",
   "execution_count": 61,
   "metadata": {},
   "outputs": [
    {
     "data": {
      "text/plain": [
       "5"
      ]
     },
     "metadata": {},
     "output_type": "display_data"
    },
    {
     "name": "stdout",
     "output_type": "stream",
     "text": [
      "Tìm tên của ký túc xá với sức chứa lớn nhất .\n",
      "select tên ký túc xá from ký túc xá order by sức chứa desc limit 1\n"
     ]
    }
   ],
   "source": [
    "id = 2100\n",
    "schema, query, question = all_info(train_dataset[id])\n",
    "display(schema)\n",
    "print(query)\n",
    "print(question)"
   ]
  },
  {
   "cell_type": "code",
   "execution_count": 63,
   "metadata": {},
   "outputs": [
    {
     "data": {
      "text/plain": [
       "166"
      ]
     },
     "execution_count": 63,
     "metadata": {},
     "output_type": "execute_result"
    }
   ],
   "source": [
    "all_table = [see_table_schema(table) for table in table_dataset]\n",
    "len(all_table)"
   ]
  },
  {
   "cell_type": "code",
   "execution_count": 68,
   "metadata": {},
   "outputs": [],
   "source": [
    "ll = {}\n",
    "for table in all_table:\n",
    "    ll[len(table)] = ll.get(len(table), 0) + 1"
   ]
  },
  {
   "cell_type": "code",
   "execution_count": 69,
   "metadata": {},
   "outputs": [
    {
     "data": {
      "text/plain": [
       "{2: 23,\n",
       " 11: 6,\n",
       " 3: 55,\n",
       " 4: 26,\n",
       " 15: 2,\n",
       " 14: 2,\n",
       " 7: 14,\n",
       " 5: 10,\n",
       " 9: 3,\n",
       " 8: 5,\n",
       " 12: 3,\n",
       " 6: 8,\n",
       " 16: 3,\n",
       " 26: 1,\n",
       " 10: 2,\n",
       " 13: 2,\n",
       " 17: 1}"
      ]
     },
     "execution_count": 69,
     "metadata": {},
     "output_type": "execute_result"
    }
   ],
   "source": [
    "ll"
   ]
  },
  {
   "cell_type": "code",
   "execution_count": null,
   "metadata": {},
   "outputs": [],
   "source": []
  }
 ],
 "metadata": {
  "kernelspec": {
   "display_name": "dataEngineer",
   "language": "python",
   "name": "python3"
  },
  "language_info": {
   "codemirror_mode": {
    "name": "ipython",
    "version": 3
   },
   "file_extension": ".py",
   "mimetype": "text/x-python",
   "name": "python",
   "nbconvert_exporter": "python",
   "pygments_lexer": "ipython3",
   "version": "3.9.18"
  }
 },
 "nbformat": 4,
 "nbformat_minor": 2
}
