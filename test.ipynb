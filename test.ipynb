{
 "cells": [
  {
   "cell_type": "code",
   "execution_count": 2,
   "metadata": {},
   "outputs": [
    {
     "name": "stdout",
     "output_type": "stream",
     "text": [
      "d:\\IDE_workspace\\VSCode\\TLCN_Project\\ViText2SQL\n",
      "d:\\IDE_workspace\\VSCode\\TLCN_Project\\ViText2SQL\\data\\syllable-level\n"
     ]
    }
   ],
   "source": [
    "import os\n",
    "\n",
    "# get absolute path\n",
    "base_path = os.getcwd()\n",
    "print(base_path)\n",
    "\n",
    "#get data syllable path\n",
    "data_path = os.path.join(base_path, 'data\\\\syllable-level')\n",
    "print(data_path)"
   ]
  },
  {
   "cell_type": "code",
   "execution_count": 3,
   "metadata": {},
   "outputs": [],
   "source": [
    "train_dataset_path = os.path.join(data_path, 'train.json')\n",
    "table_dataset_path = os.path.join(data_path, 'tables.json')"
   ]
  },
  {
   "cell_type": "code",
   "execution_count": 4,
   "metadata": {},
   "outputs": [],
   "source": [
    "import json\n",
    "\n",
    "train_dataset = json.load(open(train_dataset_path))\n",
    "table_dataset = json.load(open(table_dataset_path))"
   ]
  },
  {
   "cell_type": "code",
   "execution_count": 5,
   "metadata": {},
   "outputs": [],
   "source": [
    "def get_table_units(sql):\n",
    "    lst_id = set()\n",
    "    for item in sql['from'][\"table_units\"]:\n",
    "        if item[0] == \"table_unit\":\n",
    "            lst_id.append(item[1])\n",
    "        elif item[0] == \"sql\":\n",
    "            lst_id.update(get_table_units(item[1]))\n",
    "    if sql[\"except\"]:\n",
    "        lst_id.update(get_table_units(sql[\"except\"]))\n",
    "    if sql[\"union\"]:\n",
    "        lst_id.update(get_table_units(sql[\"union\"]))\n",
    "    if sql[\"intersect\"]:\n",
    "        lst_id.update(get_table_units(sql[\"intersect\"]))\n",
    "    return lst_id\n",
    "\n",
    "def see_query_info(row):\n",
    "    sql = row['sql']\n",
    "    table_units = get_table_units(sql)\n",
    "\n",
    "    return row['question'], row['query'], table_units\n",
    "\n",
    "def see_table_schema(schema):\n",
    "    tables = [(r, []) for r in schema['table_names']]\n",
    "    for col in schema['column_names'][1:]:\n",
    "        # add column to coresponding table\n",
    "        tables[col[0]][1].append(col[1])\n",
    "    return tables\n",
    "\n",
    "def find_db_from_query(data):\n",
    "    db_id = data['db_id']\n",
    "    for table in table_dataset:\n",
    "        if table['db_id'] == db_id:\n",
    "            return table\n",
    "\n",
    "def find_all_question_and_query_from_table(data):\n",
    "    db_id = data['db_id']\n",
    "    question_n_query = []\n",
    "    for r in train_dataset:\n",
    "        if r['db_id'] == db_id:\n",
    "            question_n_query.append(see_query_info)\n",
    "    return question_n_query"
   ]
  },
  {
   "cell_type": "code",
   "execution_count": 6,
   "metadata": {},
   "outputs": [],
   "source": [
    "def all_info(data):\n",
    "    tables = find_db_from_query(data)\n",
    "    question, query, table_units = see_query_info(data)\n",
    "    schema = see_table_schema(tables)\n",
    "    try:\n",
    "        core_respond_table = [schema[unit] for unit in table_units]\n",
    "        return core_respond_table, question, query, schema\n",
    "    except:\n",
    "        print(query)\n",
    "    "
   ]
  },
  {
   "cell_type": "code",
   "execution_count": 7,
   "metadata": {},
   "outputs": [
    {
     "ename": "TypeError",
     "evalue": "isinstance() arg 2 must be a type or tuple of types",
     "output_type": "error",
     "traceback": [
      "\u001b[1;31m---------------------------------------------------------------------------\u001b[0m",
      "\u001b[1;31mTypeError\u001b[0m                                 Traceback (most recent call last)",
      "\u001b[1;32m~\\AppData\\Local\\Temp\\ipykernel_14648\\4152752562.py\u001b[0m in \u001b[0;36m<cell line: 2>\u001b[1;34m()\u001b[0m\n\u001b[0;32m      1\u001b[0m \u001b[0mid\u001b[0m \u001b[1;33m=\u001b[0m \u001b[1;36m10\u001b[0m\u001b[1;33m\u001b[0m\u001b[1;33m\u001b[0m\u001b[0m\n\u001b[1;32m----> 2\u001b[1;33m \u001b[0mcore_respond_table\u001b[0m\u001b[1;33m,\u001b[0m \u001b[0mquery\u001b[0m\u001b[1;33m,\u001b[0m \u001b[0mquestion\u001b[0m\u001b[1;33m,\u001b[0m \u001b[0mschema\u001b[0m \u001b[1;33m=\u001b[0m \u001b[0mall_info\u001b[0m\u001b[1;33m(\u001b[0m\u001b[0mtrain_dataset\u001b[0m\u001b[1;33m[\u001b[0m\u001b[0mid\u001b[0m\u001b[1;33m]\u001b[0m\u001b[1;33m)\u001b[0m\u001b[1;33m\u001b[0m\u001b[1;33m\u001b[0m\u001b[0m\n\u001b[0m\u001b[0;32m      3\u001b[0m \u001b[0mdisplay\u001b[0m\u001b[1;33m(\u001b[0m\u001b[0mcore_respond_table\u001b[0m\u001b[1;33m)\u001b[0m\u001b[1;33m\u001b[0m\u001b[1;33m\u001b[0m\u001b[0m\n\u001b[0;32m      4\u001b[0m \u001b[0mprint\u001b[0m\u001b[1;33m(\u001b[0m\u001b[0mquery\u001b[0m\u001b[1;33m)\u001b[0m\u001b[1;33m\u001b[0m\u001b[1;33m\u001b[0m\u001b[0m\n\u001b[0;32m      5\u001b[0m \u001b[0mprint\u001b[0m\u001b[1;33m(\u001b[0m\u001b[0mquestion\u001b[0m\u001b[1;33m)\u001b[0m\u001b[1;33m\u001b[0m\u001b[1;33m\u001b[0m\u001b[0m\n",
      "\u001b[1;32m~\\AppData\\Local\\Temp\\ipykernel_14648\\2956595142.py\u001b[0m in \u001b[0;36mall_info\u001b[1;34m(data)\u001b[0m\n\u001b[0;32m      1\u001b[0m \u001b[1;32mdef\u001b[0m \u001b[0mall_info\u001b[0m\u001b[1;33m(\u001b[0m\u001b[0mdata\u001b[0m\u001b[1;33m)\u001b[0m\u001b[1;33m:\u001b[0m\u001b[1;33m\u001b[0m\u001b[1;33m\u001b[0m\u001b[0m\n\u001b[0;32m      2\u001b[0m     \u001b[0mtables\u001b[0m \u001b[1;33m=\u001b[0m \u001b[0mfind_db_from_query\u001b[0m\u001b[1;33m(\u001b[0m\u001b[0mdata\u001b[0m\u001b[1;33m)\u001b[0m\u001b[1;33m\u001b[0m\u001b[1;33m\u001b[0m\u001b[0m\n\u001b[1;32m----> 3\u001b[1;33m     \u001b[0mquestion\u001b[0m\u001b[1;33m,\u001b[0m \u001b[0mquery\u001b[0m\u001b[1;33m,\u001b[0m \u001b[0mtable_units\u001b[0m \u001b[1;33m=\u001b[0m \u001b[0msee_query_info\u001b[0m\u001b[1;33m(\u001b[0m\u001b[0mdata\u001b[0m\u001b[1;33m)\u001b[0m\u001b[1;33m\u001b[0m\u001b[1;33m\u001b[0m\u001b[0m\n\u001b[0m\u001b[0;32m      4\u001b[0m     \u001b[0mschema\u001b[0m \u001b[1;33m=\u001b[0m \u001b[0msee_table_schema\u001b[0m\u001b[1;33m(\u001b[0m\u001b[0mtables\u001b[0m\u001b[1;33m)\u001b[0m\u001b[1;33m\u001b[0m\u001b[1;33m\u001b[0m\u001b[0m\n\u001b[0;32m      5\u001b[0m     \u001b[1;32mtry\u001b[0m\u001b[1;33m:\u001b[0m\u001b[1;33m\u001b[0m\u001b[1;33m\u001b[0m\u001b[0m\n",
      "\u001b[1;32m~\\AppData\\Local\\Temp\\ipykernel_14648\\2382431673.py\u001b[0m in \u001b[0;36msee_query_info\u001b[1;34m(row)\u001b[0m\n\u001b[0;32m      2\u001b[0m     \u001b[0mtable_units\u001b[0m \u001b[1;33m=\u001b[0m \u001b[0mset\u001b[0m\u001b[1;33m(\u001b[0m\u001b[1;33m)\u001b[0m\u001b[1;33m\u001b[0m\u001b[1;33m\u001b[0m\u001b[0m\n\u001b[0;32m      3\u001b[0m     \u001b[1;32mfor\u001b[0m \u001b[0mitem\u001b[0m \u001b[1;32min\u001b[0m \u001b[0mrow\u001b[0m\u001b[1;33m[\u001b[0m\u001b[1;34m'sql'\u001b[0m\u001b[1;33m]\u001b[0m\u001b[1;33m[\u001b[0m\u001b[1;34m'from'\u001b[0m\u001b[1;33m]\u001b[0m\u001b[1;33m[\u001b[0m\u001b[1;34m'table_units'\u001b[0m\u001b[1;33m]\u001b[0m\u001b[1;33m:\u001b[0m\u001b[1;33m\u001b[0m\u001b[1;33m\u001b[0m\u001b[0m\n\u001b[1;32m----> 4\u001b[1;33m         \u001b[1;32mif\u001b[0m \u001b[0misinstance\u001b[0m\u001b[1;33m(\u001b[0m\u001b[0mitem\u001b[0m\u001b[1;33m[\u001b[0m\u001b[1;36m1\u001b[0m\u001b[1;33m]\u001b[0m\u001b[1;33m,\u001b[0m \u001b[1;34m'int'\u001b[0m\u001b[1;33m)\u001b[0m\u001b[1;33m:\u001b[0m\u001b[1;33m\u001b[0m\u001b[1;33m\u001b[0m\u001b[0m\n\u001b[0m\u001b[0;32m      5\u001b[0m             \u001b[0mtable_units\u001b[0m\u001b[1;33m.\u001b[0m\u001b[0mappend\u001b[0m\u001b[1;33m(\u001b[0m\u001b[0mitem\u001b[0m\u001b[1;33m[\u001b[0m\u001b[1;36m1\u001b[0m\u001b[1;33m]\u001b[0m\u001b[1;33m)\u001b[0m\u001b[1;33m\u001b[0m\u001b[1;33m\u001b[0m\u001b[0m\n\u001b[0;32m      6\u001b[0m     \u001b[1;32mreturn\u001b[0m \u001b[0mrow\u001b[0m\u001b[1;33m[\u001b[0m\u001b[1;34m'question'\u001b[0m\u001b[1;33m]\u001b[0m\u001b[1;33m,\u001b[0m \u001b[0mrow\u001b[0m\u001b[1;33m[\u001b[0m\u001b[1;34m'query'\u001b[0m\u001b[1;33m]\u001b[0m\u001b[1;33m,\u001b[0m \u001b[0mtable_units\u001b[0m\u001b[1;33m\u001b[0m\u001b[1;33m\u001b[0m\u001b[0m\n",
      "\u001b[1;31mTypeError\u001b[0m: isinstance() arg 2 must be a type or tuple of types"
     ]
    }
   ],
   "source": [
    "id = 10\n",
    "core_respond_table, query, question, schema = all_info(train_dataset[id])\n",
    "display(core_respond_table)\n",
    "print(query)\n",
    "print(question)"
   ]
  },
  {
   "cell_type": "code",
   "execution_count": 8,
   "metadata": {},
   "outputs": [],
   "source": [
    "def table_to_string(tables):\n",
    "    lst = []\n",
    "    for table in tables:\n",
    "        lst.append(table[0] + ' (' + ','.join(table[1]) + ')')\n",
    "    result = '; '.join(lst)\n",
    "    return result    \n",
    "\n",
    "def to_dataset(data):\n",
    "    core_respond_table, question, query, _ = all_info(data)\n",
    "    \n",
    "    # ouput is dataset with inputs and lables\n",
    "    columns = [\"inputs\", \"labels\"]\n",
    "    data_single_input = {}\n",
    "    instruction = f\"Tôi có bảng: {table_to_string(core_respond_table)}. Hãy trả lời bằng câu truy vấn: {question}\"\n",
    "\n",
    "    data_single_input[columns[0]] = instruction\n",
    "    data_single_input[columns[1]] = query\n",
    "\n",
    "    #output is dataset with schema, question, query\n",
    "    columns = [\"schema\", \"question\", \"labels\"]\n",
    "    data_multiple_input = {}\n",
    "    data_multiple_input[columns[0]] = table_to_string(core_respond_table)\n",
    "    data_multiple_input[columns[1]] = question\n",
    "    data_multiple_input[columns[2]] = query\n",
    "\n",
    "    return data_single_input, data_multiple_input"
   ]
  },
  {
   "cell_type": "code",
   "execution_count": 8,
   "metadata": {},
   "outputs": [
    {
     "data": {
      "text/plain": [
       "({'inputs': \"Tôi có bảng: bài báo (tóm tắt,id hội nghị,số lượng trích dẫn,id tạp chí,id bài báo,số lượng trích dẫn,tiêu đề,năm). Hãy trả lời bằng câu truy vấn: cho biết bản tóm tắt của bài báo với tiêu đề là ' làm cho hệ thống cơ sở dữ liệu có thể sử dụng được ' .\",\n",
       "  'labels': 'select tóm tắt from bài báo where tiêu đề = \"Making database systems usable\"'},\n",
       " {'schema': 'bài báo (tóm tắt,id hội nghị,số lượng trích dẫn,id tạp chí,id bài báo,số lượng trích dẫn,tiêu đề,năm)',\n",
       "  'question': \"cho biết bản tóm tắt của bài báo với tiêu đề là ' làm cho hệ thống cơ sở dữ liệu có thể sử dụng được ' .\",\n",
       "  'labels': 'select tóm tắt from bài báo where tiêu đề = \"Making database systems usable\"'})"
      ]
     },
     "execution_count": 8,
     "metadata": {},
     "output_type": "execute_result"
    }
   ],
   "source": [
    "to_dataset(train_dataset[2])"
   ]
  },
  {
   "cell_type": "code",
   "execution_count": 9,
   "metadata": {},
   "outputs": [],
   "source": [
    "def generate_dataset(lst_id, data):\n",
    "    lst_single_input = []\n",
    "    lst_multiple_input = []\n",
    "    for id in lst_id:\n",
    "        single_input, multiple_input = to_dataset(data[id])\n",
    "        lst_single_input.append(single_input)\n",
    "        lst_multiple_input.append(multiple_input)\n",
    "    return lst_single_input, lst_multiple_input"
   ]
  },
  {
   "cell_type": "markdown",
   "metadata": {},
   "source": [
    "### Generate Specific id"
   ]
  },
  {
   "cell_type": "code",
   "execution_count": 10,
   "metadata": {},
   "outputs": [
    {
     "name": "stdout",
     "output_type": "stream",
     "text": [
      "[426, 6007, 212, 2548, 3035, 6477, 2592, 4995, 2081, 825, 2947, 4732, 210, 5993, 3010, 500, 3894, 5679, 5276, 5770, 4781, 2107, 474, 6506, 3835, 3792, 2623, 3320, 4185, 3203, 5505, 3886, 3486, 5526, 2246, 3946, 1198, 6076, 2265, 1303, 4800, 1588, 5051, 2620, 4031, 958, 5126, 5216, 6393, 5243, 3516, 1903, 613, 412, 559, 3435, 350, 2162, 5098, 1431, 4402, 3912, 6274, 3513, 3515, 6378, 914, 1450, 957, 4266, 1802, 4612, 399, 5365, 4604, 3452, 1213, 2301, 6072, 1089, 6727, 5448, 1631, 18, 4064, 343, 6473, 100, 5366, 1241, 6493, 2518, 657, 4066, 2180, 829, 786, 5151, 3559, 6547]\n"
     ]
    }
   ],
   "source": [
    "import random\n",
    "seed = 20110220\n",
    "num = 100\n",
    "random.seed(seed)\n",
    "lst_id = random.sample(range(len(train_dataset)), num)\n",
    "print(lst_id)"
   ]
  },
  {
   "cell_type": "code",
   "execution_count": 11,
   "metadata": {},
   "outputs": [],
   "source": [
    "single_input_dataset, multiple_input_dataset = generate_dataset(lst_id, train_dataset)"
   ]
  },
  {
   "cell_type": "code",
   "execution_count": 13,
   "metadata": {},
   "outputs": [
    {
     "data": {
      "text/plain": [
       "[{'schema': 'cầu thủ (id cầu thủ,năm sinh,tháng sinh,ngày sinh,đất nước nơi sinh,tiểu bang nơi sinh,thành phố nơi sinh,năm mất,tháng mất,ngày mất,đất nước nơi mất,tiểu bang nơi mất,thành phố nơi mất,tên,họ,tên đệm,cân nặng,chiều cao,tay đánh thuận,tay ném thuận,ngày ra mắt,ngày chơi trận cuối,id trong retro,id trong brref)',\n",
       "  'question': 'Cho biết 3 quốc gia có ít cầu thủ nhất .',\n",
       "  'labels': 'select đất nước nơi sinh from cầu thủ group by đất nước nơi sinh order by count ( * ) asc limit 3'},\n",
       " {'schema': 'khách hàng (id,tên,họ,công ty,địa chỉ,thành phố,tiểu bang,quốc gia,mã bưu điện,số điện thoại,số fax,e-mail,id đại diện hỗ trợ)',\n",
       "  'question': \"Có bao nhiêu khách hàng sống ở ' Prague ' ?\",\n",
       "  'labels': 'select count ( * ) from khách hàng where thành phố = \"Prague\"'},\n",
       " {'schema': 'phi công (id phi công,tên,tuổi tác)',\n",
       "  'question': 'Sắp xếp tên của tất cả các phi công theo thứ tự giảm dần về độ tuổi .',\n",
       "  'labels': 'select tên from phi công order by tuổi tác desc'},\n",
       " {'schema': 'sân bay (id sân bay,tên,thành phố,quốc gia,x,y,độ cao,iata,icao)',\n",
       "  'question': 'Mỗi quốc gia có bao nhiêu sân bay ? Sắp xếp các quốc gia theo thứ tự giảm dần về số lượng các sân bay ở từng quốc gia .',\n",
       "  'labels': 'select count ( * ) , quốc gia from sân bay group by quốc gia order by count ( * ) desc'},\n",
       " {'schema': 'thành phố (tên thành phố,dân số,tên quốc gia,tên tiểu bang)',\n",
       "  'question': 'có bao nhiêu người sống ở thủ đô của texas ?',\n",
       "  'labels': 'select dân số from thành phố where tên thành phố = ( select thủ đô from tiểu bang where tên tiểu bang = \"texas\" )'}]"
      ]
     },
     "execution_count": 13,
     "metadata": {},
     "output_type": "execute_result"
    }
   ],
   "source": [
    "multiple_input_dataset[:5]"
   ]
  },
  {
   "cell_type": "code",
   "execution_count": 29,
   "metadata": {},
   "outputs": [],
   "source": [
    "json.dump(single_input_dataset, open('single_input_dataset.json', 'w'), ensure_ascii=False, separators=(',', ': '), indent=4)\n",
    "json.dump(multiple_input_dataset, open('multiple_input_dataset.json', 'w'), ensure_ascii=False, separators=(',', ': '), indent=4)"
   ]
  },
  {
   "cell_type": "markdown",
   "metadata": {},
   "source": [
    "### Generate all data"
   ]
  },
  {
   "cell_type": "code",
   "execution_count": 14,
   "metadata": {},
   "outputs": [
    {
     "name": "stdout",
     "output_type": "stream",
     "text": [
      "True\n"
     ]
    }
   ],
   "source": [
    "all_lst_id = [*range(len(train_dataset))]\n",
    "# random.shuffle(all_lst_id)\n",
    "print(len(all_lst_id) == len(train_dataset))"
   ]
  },
  {
   "cell_type": "code",
   "execution_count": 19,
   "metadata": {},
   "outputs": [
    {
     "name": "stdout",
     "output_type": "stream",
     "text": [
      "[{'except': None, 'from': {'conds': [], 'table_units': [['table_unit', 2]]}, 'groupBy': [], 'where': [[False, 2, [0, [0, 10, False], None], '\"goalie\"', None]], 'limit': None, 'union': None, 'intersect': {'except': None, 'from': {'conds': [], 'table_units': [['table_unit', 2]]}, 'groupBy': [], 'where': [[False, 2, [0, [0, 10, False], None], '\"mid\"', None]], 'limit': None, 'union': None, 'intersect': None, 'having': [], 'select': [False, [[0, [0, [0, 9, False], None]]]], 'orderBy': []}, 'having': [], 'select': [False, [[0, [0, [0, 9, False], None]]]], 'orderBy': []}]\n",
      "soccer_2\n",
      "select count ( * ) from ( select tên trường đại học from buổi thử sức where vị trí cầu thủ = \"goalie\" intersect select tên trường đại học from buổi thử sức where vị trí cầu thủ = \"mid\" )\n"
     ]
    },
    {
     "ename": "TypeError",
     "evalue": "cannot unpack non-iterable NoneType object",
     "output_type": "error",
     "traceback": [
      "\u001b[1;31m---------------------------------------------------------------------------\u001b[0m",
      "\u001b[1;31mTypeError\u001b[0m                                 Traceback (most recent call last)",
      "\u001b[1;32m~\\AppData\\Local\\Temp\\ipykernel_22948\\3153327590.py\u001b[0m in \u001b[0;36m<cell line: 1>\u001b[1;34m()\u001b[0m\n\u001b[1;32m----> 1\u001b[1;33m \u001b[0mall_single_input_dataset\u001b[0m\u001b[1;33m,\u001b[0m \u001b[0mall_multiple_input_dataset\u001b[0m \u001b[1;33m=\u001b[0m \u001b[0mgenerate_dataset\u001b[0m\u001b[1;33m(\u001b[0m\u001b[0mall_lst_id\u001b[0m\u001b[1;33m,\u001b[0m \u001b[0mtrain_dataset\u001b[0m\u001b[1;33m)\u001b[0m\u001b[1;33m\u001b[0m\u001b[1;33m\u001b[0m\u001b[0m\n\u001b[0m",
      "\u001b[1;32m~\\AppData\\Local\\Temp\\ipykernel_22948\\1990582307.py\u001b[0m in \u001b[0;36mgenerate_dataset\u001b[1;34m(lst_id, data)\u001b[0m\n\u001b[0;32m      3\u001b[0m     \u001b[0mlst_multiple_input\u001b[0m \u001b[1;33m=\u001b[0m \u001b[1;33m[\u001b[0m\u001b[1;33m]\u001b[0m\u001b[1;33m\u001b[0m\u001b[1;33m\u001b[0m\u001b[0m\n\u001b[0;32m      4\u001b[0m     \u001b[1;32mfor\u001b[0m \u001b[0mid\u001b[0m \u001b[1;32min\u001b[0m \u001b[0mlst_id\u001b[0m\u001b[1;33m:\u001b[0m\u001b[1;33m\u001b[0m\u001b[1;33m\u001b[0m\u001b[0m\n\u001b[1;32m----> 5\u001b[1;33m         \u001b[0msingle_input\u001b[0m\u001b[1;33m,\u001b[0m \u001b[0mmultiple_input\u001b[0m \u001b[1;33m=\u001b[0m \u001b[0mto_dataset\u001b[0m\u001b[1;33m(\u001b[0m\u001b[0mdata\u001b[0m\u001b[1;33m[\u001b[0m\u001b[0mid\u001b[0m\u001b[1;33m]\u001b[0m\u001b[1;33m)\u001b[0m\u001b[1;33m\u001b[0m\u001b[1;33m\u001b[0m\u001b[0m\n\u001b[0m\u001b[0;32m      6\u001b[0m         \u001b[0mlst_single_input\u001b[0m\u001b[1;33m.\u001b[0m\u001b[0mappend\u001b[0m\u001b[1;33m(\u001b[0m\u001b[0msingle_input\u001b[0m\u001b[1;33m)\u001b[0m\u001b[1;33m\u001b[0m\u001b[1;33m\u001b[0m\u001b[0m\n\u001b[0;32m      7\u001b[0m         \u001b[0mlst_multiple_input\u001b[0m\u001b[1;33m.\u001b[0m\u001b[0mappend\u001b[0m\u001b[1;33m(\u001b[0m\u001b[0mmultiple_input\u001b[0m\u001b[1;33m)\u001b[0m\u001b[1;33m\u001b[0m\u001b[1;33m\u001b[0m\u001b[0m\n",
      "\u001b[1;32m~\\AppData\\Local\\Temp\\ipykernel_22948\\2543639311.py\u001b[0m in \u001b[0;36mto_dataset\u001b[1;34m(data)\u001b[0m\n\u001b[0;32m      7\u001b[0m \u001b[1;33m\u001b[0m\u001b[0m\n\u001b[0;32m      8\u001b[0m \u001b[1;32mdef\u001b[0m \u001b[0mto_dataset\u001b[0m\u001b[1;33m(\u001b[0m\u001b[0mdata\u001b[0m\u001b[1;33m)\u001b[0m\u001b[1;33m:\u001b[0m\u001b[1;33m\u001b[0m\u001b[1;33m\u001b[0m\u001b[0m\n\u001b[1;32m----> 9\u001b[1;33m     \u001b[0mcore_respond_table\u001b[0m\u001b[1;33m,\u001b[0m \u001b[0mquestion\u001b[0m\u001b[1;33m,\u001b[0m \u001b[0mquery\u001b[0m\u001b[1;33m,\u001b[0m \u001b[0m_\u001b[0m \u001b[1;33m=\u001b[0m \u001b[0mall_info\u001b[0m\u001b[1;33m(\u001b[0m\u001b[0mdata\u001b[0m\u001b[1;33m)\u001b[0m\u001b[1;33m\u001b[0m\u001b[1;33m\u001b[0m\u001b[0m\n\u001b[0m\u001b[0;32m     10\u001b[0m \u001b[1;33m\u001b[0m\u001b[0m\n\u001b[0;32m     11\u001b[0m     \u001b[1;31m# ouput is dataset with inputs and lables\u001b[0m\u001b[1;33m\u001b[0m\u001b[1;33m\u001b[0m\u001b[0m\n",
      "\u001b[1;31mTypeError\u001b[0m: cannot unpack non-iterable NoneType object"
     ]
    }
   ],
   "source": [
    "all_single_input_dataset, all_multiple_input_dataset = generate_dataset(all_lst_id, train_dataset)"
   ]
  }
 ],
 "metadata": {
  "kernelspec": {
   "display_name": "dataEngineer",
   "language": "python",
   "name": "python3"
  },
  "language_info": {
   "codemirror_mode": {
    "name": "ipython",
    "version": 3
   },
   "file_extension": ".py",
   "mimetype": "text/x-python",
   "name": "python",
   "nbconvert_exporter": "python",
   "pygments_lexer": "ipython3",
   "version": "3.9.18"
  }
 },
 "nbformat": 4,
 "nbformat_minor": 2
}
